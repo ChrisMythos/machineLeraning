{
 "cells": [
  {
   "cell_type": "markdown",
   "metadata": {},
   "source": [
    "## Char-RNN (prediction)\n",
    "\n",
    "This notebook describes the use of a char-RNN.\n",
    "\n",
    "The notebook has been apoted from: https://github.com/mineshmathew/char_rnn_karpathy_keras/blob/master/char_rnn_of_karpathy_keras.py\n",
    "\n",
    "The training is described in [15_char_rnn_didactic_no_state_training.ipynb](https://github.com/tensorchiefs/dl_course/blob/master/notebooks/15_char_rnn_didactic_no_state_training.ipynb)."
   ]
  },
  {
   "cell_type": "code",
   "execution_count": 7,
   "metadata": {},
   "outputs": [],
   "source": [
    "from __future__ import print_function\n",
    "from tensorflow.keras.models import Sequential\n",
    "from tensorflow.keras.layers import Dense, Activation, Dropout\n",
    "from tensorflow.keras.layers import LSTM,SimpleRNN\n",
    "from tensorflow.keras.layers import TimeDistributed\n",
    "#from tensorflow.keras.utils.data_utils import get_file\n",
    "import numpy as np\n",
    "from time import sleep\n",
    "import tensorflow as tf\n",
    "import random\n",
    "import sys\n",
    "import pickle"
   ]
  },
  {
   "cell_type": "code",
   "execution_count": 8,
   "metadata": {},
   "outputs": [],
   "source": [
    "char_indices, indices_char = pickle.load( open( \"15_chars.p\", \"rb\" ) )"
   ]
  },
  {
   "cell_type": "code",
   "execution_count": 9,
   "metadata": {},
   "outputs": [
    {
     "data": {
      "text/plain": [
       "106"
      ]
     },
     "execution_count": 9,
     "metadata": {},
     "output_type": "execute_result"
    }
   ],
   "source": [
    "len(char_indices)"
   ]
  },
  {
   "cell_type": "code",
   "execution_count": 10,
   "metadata": {},
   "outputs": [
    {
     "name": "stdout",
     "output_type": "stream",
     "text": [
      "-rw-r--r-- 1 root root 27M Dec 17 21:19 Didactic_no_state\r\n"
     ]
    }
   ],
   "source": [
    "# Loading the model\n",
    "import urllib\n",
    "import os\n",
    "if not os.path.isfile('Didactic_no_state'):\n",
    "    urllib.request.urlretrieve(\"https://www.dropbox.com/s/ibs345wdjtxuy1t/Didactic_no_state?dl=1\",\"Didactic_no_state\")\n",
    "%ls -hl Didactic_no_state"
   ]
  },
  {
   "cell_type": "code",
   "execution_count": 11,
   "metadata": {},
   "outputs": [
    {
     "name": "stdout",
     "output_type": "stream",
     "text": [
      "WARNING:tensorflow:Error in loading the saved optimizer state. As a result, your model is starting with a freshly initialized optimizer.\n",
      "Model: \"sequential\"\n",
      "_________________________________________________________________\n",
      "Layer (type)                 Output Shape              Param #   \n",
      "=================================================================\n",
      "lstm_1 (LSTM)                (None, 40, 512)           1267712   \n",
      "_________________________________________________________________\n",
      "lstm_2 (LSTM)                (None, 40, 512)           2099200   \n",
      "_________________________________________________________________\n",
      "dropout_1 (Dropout)          (None, 40, 512)           0         \n",
      "_________________________________________________________________\n",
      "time_distributed_1 (TimeDist (None, 40, 106)           54378     \n",
      "_________________________________________________________________\n",
      "time_distributed_2 (TimeDist (None, 40, 106)           0         \n",
      "=================================================================\n",
      "Total params: 3,421,290\n",
      "Trainable params: 3,421,290\n",
      "Non-trainable params: 0\n",
      "_________________________________________________________________\n"
     ]
    }
   ],
   "source": [
    "model = tf.keras.models.load_model('Didactic_no_state')\n",
    "model.summary()"
   ]
  },
  {
   "cell_type": "code",
   "execution_count": 12,
   "metadata": {},
   "outputs": [],
   "source": [
    "def _sample(a, temperature):\n",
    "    # helper function to sample an index from a probability array\n",
    "    logit = np.log(a) \n",
    "    p = np.exp(logit / temperature)\n",
    "    #1.001 to be on the save side, sum(p) < 1 for np.random.multinomial\n",
    "    p /= (1.001 * np.sum(p))\n",
    "    return np.argmax(np.random.multinomial(1, p, 1))\n",
    "\n",
    "def print_sample(sentence = 'Zur Didaktik des integrativen Unterricht', temp=0.5):\n",
    "    generated = ''\n",
    "    start_index = 0\n",
    "    maxlen = 40\n",
    "    generated += sentence\n",
    "    print('----- Generating with seed: \"' + sentence + '\"')\n",
    "    sys.stdout.write(generated)\n",
    "\n",
    "    for i in range(400):\n",
    "        x = np.zeros((1, maxlen, len(char_indices)))\n",
    "        for t, char in enumerate(sentence):\n",
    "            x[0, t, char_indices[char]] = 1.\n",
    "\n",
    "        preds = (model.predict_proba(x, verbose=0))[0,-1,:]\n",
    "        #print(preds)\n",
    "        next_index = _sample(preds, temp)\n",
    "        next_char = indices_char[next_index]\n",
    "\n",
    "        generated += next_char\n",
    "        sentence = sentence[1:] + next_char\n",
    "\n",
    "        sys.stdout.write(next_char)\n",
    "        sys.stdout.flush()\n",
    "    print()"
   ]
  },
  {
   "cell_type": "code",
   "execution_count": 14,
   "metadata": {},
   "outputs": [
    {
     "name": "stdout",
     "output_type": "stream",
     "text": [
      "----- Generating with seed: \"Zur Didaktik des integrativen Unterricht\"\n",
      "Zur Didaktik des integrativen Unterrichts\n",
      "und wo die S"
     ]
    },
    {
     "name": "stderr",
     "output_type": "stream",
     "text": [
      "/usr/local/lib/python3.6/dist-packages/ipykernel_launcher.py:3: RuntimeWarning: divide by zero encountered in log\n",
      "  This is separate from the ipykernel package so we can avoid doing imports until\n"
     ]
    },
    {
     "name": "stdout",
     "output_type": "stream",
     "text": [
      "chülerinnen und Schüler für mögliche ‚Fallstringens- und Projektarbeit beste Rahmenbedingungen. In der Sach- und der Tendenz auf. In seiner Erfahrungen in der empirischen soziologischen Forschung. München: Fink.\n",
      "Strauss, A. L. & Corbin, J. (1996) Grounded Theory. Grundlagen Qualitativer Sozialforschung immer eingesetzt. Dabei aber wirklich noch zwei Dinge seien mit den unterschiedlic\n"
     ]
    }
   ],
   "source": [
    "print_sample()"
   ]
  },
  {
   "cell_type": "markdown",
   "metadata": {},
   "source": [
    "#### Some samples \n",
    "\n",
    "We started with \"Zur Didaktik des integrativen Unterricht\" and temp=1/2\n",
    "\n",
    "```\n",
    "Zur Didaktik des integrativen Unterrichts\n",
    "„Das bedeutet auch die Begriffe Heterogenität und deine Vorstellung der Didaktik im integrativen Unter\n",
    "\n",
    "Zur Didaktik des integrativen Unterrichts\n",
    "Frontalunterricht miteinander oder wir haben auch Kreisgespräche innerhalb einer Unterrichtseinheit eingesetzt werden\n",
    "\n",
    "Zur Didaktik des integrativen Unterrichts\n",
    "Die Sachbegegnung soll dabei nicht nur auf Hören und Sehen beschränkt werden, „sondern in der Motorik, im handelnden Unterrichtsstil gefunden hat, der in optivieren der Ergebnisse bewusst ist.\n",
    "\n",
    "```"
   ]
  }
 ],
 "metadata": {
  "kernelspec": {
   "display_name": "Python 3",
   "language": "python",
   "name": "python3"
  },
  "language_info": {
   "codemirror_mode": {
    "name": "ipython",
    "version": 3
   },
   "file_extension": ".py",
   "mimetype": "text/x-python",
   "name": "python",
   "nbconvert_exporter": "python",
   "pygments_lexer": "ipython3",
   "version": "3.6.8"
  }
 },
 "nbformat": 4,
 "nbformat_minor": 1
}
