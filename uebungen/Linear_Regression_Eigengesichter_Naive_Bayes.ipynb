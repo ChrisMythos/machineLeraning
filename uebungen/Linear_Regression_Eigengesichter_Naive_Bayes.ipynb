{
 "cells": [
  {
   "cell_type": "markdown",
   "metadata": {},
   "source": [
    "# Arbeitsblatt 2: Lineare Regression, Eigengesichter und Bayes-Klassifikator"
   ]
  },
  {
   "cell_type": "markdown",
   "metadata": {
    "colab_type": "text",
    "id": "EIolRLmR2tJc"
   },
   "source": [
    "## 1. Linear Regression on Fish Data\n",
    "\n",
    "The following data-set contains the number of fish groups of camper caught in a state park (taken from https://stats.idre.ucla.edu/r/dae/zip/). Your task here is to predict the number of fish caught by a fishing party from the following information: \n",
    "\n",
    "* how many people are in the group\n",
    "* the number children in the group\n",
    "* the use of live bait\n",
    "* whether the group came with a camper to the park. \n",
    "\n",
    "We have a small data set, of 250 groups, which visited a state park and provided. For comparison the data set is already split into a training set and testset."
   ]
  },
  {
   "cell_type": "code",
   "execution_count": 1,
   "metadata": {
    "colab": {},
    "colab_type": "code",
    "id": "YsAt_vDL3jFG"
   },
   "outputs": [],
   "source": [
    "import matplotlib.pyplot as plt\n",
    "import numpy as np\n",
    "import pandas as pd\n",
    "from IPython.core.interactiveshell import InteractiveShell\n",
    "InteractiveShell.ast_node_interactivity = \"all\"\n",
    "%matplotlib inline"
   ]
  },
  {
   "cell_type": "code",
   "execution_count": 2,
   "metadata": {
    "colab": {},
    "colab_type": "code",
    "id": "2FQJjRm32sVc"
   },
   "outputs": [
    {
     "data": {
      "text/html": [
       "<div>\n",
       "<style scoped>\n",
       "    .dataframe tbody tr th:only-of-type {\n",
       "        vertical-align: middle;\n",
       "    }\n",
       "\n",
       "    .dataframe tbody tr th {\n",
       "        vertical-align: top;\n",
       "    }\n",
       "\n",
       "    .dataframe thead th {\n",
       "        text-align: right;\n",
       "    }\n",
       "</style>\n",
       "<table border=\"1\" class=\"dataframe\">\n",
       "  <thead>\n",
       "    <tr style=\"text-align: right;\">\n",
       "      <th></th>\n",
       "      <th>0</th>\n",
       "      <th>1</th>\n",
       "      <th>2</th>\n",
       "      <th>3</th>\n",
       "    </tr>\n",
       "  </thead>\n",
       "  <tbody>\n",
       "    <tr>\n",
       "      <th>0</th>\n",
       "      <td>1.0</td>\n",
       "      <td>0.0</td>\n",
       "      <td>4.0</td>\n",
       "      <td>0.0</td>\n",
       "    </tr>\n",
       "    <tr>\n",
       "      <th>1</th>\n",
       "      <td>1.0</td>\n",
       "      <td>1.0</td>\n",
       "      <td>2.0</td>\n",
       "      <td>0.0</td>\n",
       "    </tr>\n",
       "  </tbody>\n",
       "</table>\n",
       "</div>"
      ],
      "text/plain": [
       "     0    1    2    3\n",
       "0  1.0  0.0  4.0  0.0\n",
       "1  1.0  1.0  2.0  0.0"
      ]
     },
     "execution_count": 2,
     "metadata": {},
     "output_type": "execute_result"
    }
   ],
   "source": [
    "# The Fish Data Set\n",
    "# See example 2 from https://stats.idre.ucla.edu/r/dae/zip/ \n",
    "#\"nofish\",\"livebait\",\"camper\",\"persons\",\"child\",\"xb\",\"zg\",\"count\"\n",
    "import os\n",
    "from urllib.request import urlretrieve\n",
    "if not os.path.isfile('fishing.npz'):\n",
    "    print(\"Downloading\")\n",
    "    urlretrieve('http://www-home.htwg-konstanz.de/~oduerr/data/fishing.npz',filename = 'fishing.npz')\n",
    "d = np.load('fishing.npz')\n",
    "Xt = d['Xt'] #\"livebait\",\"camper\",\"persons\",\"child\"\n",
    "Xte = d['Xte']\n",
    "yt = d['yt']\n",
    "yte = d['yte']\n",
    "pd.DataFrame(Xt[0:2])"
   ]
  },
  {
   "cell_type": "markdown",
   "metadata": {
    "colab_type": "text",
    "id": "rIaw-4LgK0zz"
   },
   "source": [
    "a) Do a linear regression by creating a design matrix with the intercept term and use the fomulae given in the lecture to determine the coefficients on the training set."
   ]
  },
  {
   "cell_type": "code",
   "execution_count": 3,
   "metadata": {},
   "outputs": [
    {
     "data": {
      "text/plain": [
       "array([[19.01146557,  0.        , 25.32266528,  0.        , 16.95979755],\n",
       "       [19.01146557, 25.12920768, 12.66133264,  0.        , 16.95979755],\n",
       "       [19.01146557, 25.12920768, 18.99199896,  0.        , 16.95979755],\n",
       "       [19.01146557, 25.12920768, 18.99199896, 43.61563586, 16.95979755],\n",
       "       [19.01146557, 25.12920768, 25.32266528, 21.80781793, 16.95979755],\n",
       "       [19.01146557,  0.        ,  6.33066632,  0.        , 16.95979755],\n",
       "       [19.01146557,  0.        , 18.99199896, 21.80781793, 16.95979755],\n",
       "       [19.01146557,  0.        , 18.99199896,  0.        , 16.95979755],\n",
       "       [19.01146557, 25.12920768, 18.99199896, 43.61563586, 16.95979755],\n",
       "       [19.01146557, 25.12920768, 12.66133264, 21.80781793, 16.95979755],\n",
       "       [19.01146557,  0.        , 12.66133264,  0.        , 16.95979755],\n",
       "       [19.01146557, 25.12920768, 12.66133264,  0.        , 16.95979755],\n",
       "       [19.01146557,  0.        , 25.32266528, 21.80781793, 16.95979755],\n",
       "       [19.01146557, 25.12920768,  6.33066632,  0.        , 16.95979755],\n",
       "       [19.01146557,  0.        , 25.32266528, 21.80781793, 16.95979755],\n",
       "       [19.01146557, 25.12920768, 18.99199896,  0.        , 16.95979755],\n",
       "       [19.01146557, 25.12920768, 12.66133264,  0.        , 16.95979755],\n",
       "       [19.01146557, 25.12920768, 25.32266528, 21.80781793, 16.95979755],\n",
       "       [19.01146557,  0.        , 25.32266528,  0.        , 16.95979755],\n",
       "       [ 0.        ,  0.        , 12.66133264,  0.        , 16.95979755],\n",
       "       [19.01146557, 25.12920768, 18.99199896, 43.61563586, 16.95979755],\n",
       "       [19.01146557, 25.12920768,  6.33066632,  0.        , 16.95979755],\n",
       "       [19.01146557,  0.        , 12.66133264,  0.        , 16.95979755],\n",
       "       [19.01146557,  0.        , 12.66133264,  0.        , 16.95979755],\n",
       "       [19.01146557, 25.12920768,  6.33066632,  0.        , 16.95979755],\n",
       "       [19.01146557, 25.12920768, 18.99199896,  0.        , 16.95979755],\n",
       "       [19.01146557,  0.        , 25.32266528, 65.4234538 , 16.95979755],\n",
       "       [19.01146557, 25.12920768,  6.33066632,  0.        , 16.95979755],\n",
       "       [19.01146557,  0.        , 25.32266528,  0.        , 16.95979755],\n",
       "       [ 0.        ,  0.        , 25.32266528, 21.80781793, 16.95979755],\n",
       "       [19.01146557, 25.12920768, 25.32266528, 43.61563586, 16.95979755],\n",
       "       [19.01146557, 25.12920768,  6.33066632,  0.        , 16.95979755],\n",
       "       [ 0.        ,  0.        , 18.99199896, 43.61563586, 16.95979755],\n",
       "       [19.01146557,  0.        , 25.32266528, 43.61563586, 16.95979755],\n",
       "       [19.01146557, 25.12920768, 18.99199896,  0.        , 16.95979755],\n",
       "       [19.01146557, 25.12920768,  6.33066632,  0.        , 16.95979755],\n",
       "       [19.01146557, 25.12920768, 25.32266528, 65.4234538 , 16.95979755],\n",
       "       [ 0.        , 25.12920768, 25.32266528, 65.4234538 , 16.95979755],\n",
       "       [19.01146557,  0.        , 12.66133264,  0.        , 16.95979755],\n",
       "       [ 0.        , 25.12920768, 18.99199896, 43.61563586, 16.95979755],\n",
       "       [19.01146557, 25.12920768, 18.99199896, 21.80781793, 16.95979755],\n",
       "       [ 0.        ,  0.        , 18.99199896,  0.        , 16.95979755],\n",
       "       [ 0.        ,  0.        , 12.66133264,  0.        , 16.95979755],\n",
       "       [19.01146557,  0.        ,  6.33066632,  0.        , 16.95979755],\n",
       "       [ 0.        ,  0.        , 18.99199896, 43.61563586, 16.95979755],\n",
       "       [19.01146557, 25.12920768, 25.32266528, 43.61563586, 16.95979755],\n",
       "       [19.01146557, 25.12920768, 12.66133264, 21.80781793, 16.95979755],\n",
       "       [19.01146557,  0.        , 12.66133264, 21.80781793, 16.95979755],\n",
       "       [19.01146557, 25.12920768,  6.33066632,  0.        , 16.95979755],\n",
       "       [ 0.        , 25.12920768, 12.66133264,  0.        , 16.95979755],\n",
       "       [19.01146557, 25.12920768, 12.66133264, 21.80781793, 16.95979755],\n",
       "       [19.01146557, 25.12920768, 18.99199896, 21.80781793, 16.95979755],\n",
       "       [19.01146557, 25.12920768, 18.99199896, 21.80781793, 16.95979755],\n",
       "       [19.01146557, 25.12920768, 12.66133264,  0.        , 16.95979755],\n",
       "       [19.01146557,  0.        , 18.99199896, 43.61563586, 16.95979755],\n",
       "       [19.01146557, 25.12920768, 25.32266528,  0.        , 16.95979755],\n",
       "       [ 0.        ,  0.        , 25.32266528, 21.80781793, 16.95979755],\n",
       "       [19.01146557,  0.        ,  6.33066632,  0.        , 16.95979755],\n",
       "       [19.01146557,  0.        , 12.66133264, 21.80781793, 16.95979755],\n",
       "       [19.01146557,  0.        , 18.99199896,  0.        , 16.95979755],\n",
       "       [19.01146557, 25.12920768, 25.32266528,  0.        , 16.95979755],\n",
       "       [19.01146557, 25.12920768, 25.32266528, 43.61563586, 16.95979755],\n",
       "       [19.01146557,  0.        , 25.32266528, 43.61563586, 16.95979755],\n",
       "       [19.01146557, 25.12920768, 18.99199896, 21.80781793, 16.95979755],\n",
       "       [19.01146557,  0.        , 18.99199896, 21.80781793, 16.95979755],\n",
       "       [ 0.        ,  0.        ,  6.33066632,  0.        , 16.95979755],\n",
       "       [19.01146557,  0.        ,  6.33066632,  0.        , 16.95979755],\n",
       "       [19.01146557, 25.12920768,  6.33066632,  0.        , 16.95979755],\n",
       "       [19.01146557, 25.12920768, 12.66133264, 21.80781793, 16.95979755],\n",
       "       [19.01146557, 25.12920768,  6.33066632,  0.        , 16.95979755],\n",
       "       [19.01146557, 25.12920768, 18.99199896,  0.        , 16.95979755],\n",
       "       [19.01146557, 25.12920768,  6.33066632,  0.        , 16.95979755],\n",
       "       [19.01146557, 25.12920768, 18.99199896, 43.61563586, 16.95979755],\n",
       "       [19.01146557, 25.12920768, 18.99199896, 21.80781793, 16.95979755],\n",
       "       [ 0.        ,  0.        , 18.99199896, 21.80781793, 16.95979755],\n",
       "       [19.01146557,  0.        , 12.66133264,  0.        , 16.95979755],\n",
       "       [19.01146557, 25.12920768, 12.66133264,  0.        , 16.95979755],\n",
       "       [19.01146557, 25.12920768, 12.66133264,  0.        , 16.95979755],\n",
       "       [19.01146557, 25.12920768, 12.66133264, 21.80781793, 16.95979755],\n",
       "       [19.01146557, 25.12920768, 12.66133264, 21.80781793, 16.95979755],\n",
       "       [19.01146557, 25.12920768, 18.99199896, 43.61563586, 16.95979755],\n",
       "       [19.01146557,  0.        , 12.66133264,  0.        , 16.95979755],\n",
       "       [19.01146557, 25.12920768, 18.99199896, 43.61563586, 16.95979755],\n",
       "       [19.01146557,  0.        , 18.99199896,  0.        , 16.95979755],\n",
       "       [19.01146557, 25.12920768, 25.32266528, 43.61563586, 16.95979755],\n",
       "       [19.01146557,  0.        , 12.66133264, 21.80781793, 16.95979755],\n",
       "       [19.01146557, 25.12920768,  6.33066632,  0.        , 16.95979755],\n",
       "       [19.01146557,  0.        ,  6.33066632,  0.        , 16.95979755],\n",
       "       [ 0.        , 25.12920768, 25.32266528, 65.4234538 , 16.95979755],\n",
       "       [19.01146557, 25.12920768, 25.32266528,  0.        , 16.95979755],\n",
       "       [19.01146557,  0.        ,  6.33066632,  0.        , 16.95979755],\n",
       "       [19.01146557, 25.12920768, 12.66133264,  0.        , 16.95979755],\n",
       "       [19.01146557, 25.12920768, 12.66133264, 21.80781793, 16.95979755],\n",
       "       [19.01146557,  0.        , 12.66133264, 21.80781793, 16.95979755],\n",
       "       [19.01146557,  0.        , 25.32266528,  0.        , 16.95979755],\n",
       "       [19.01146557,  0.        , 12.66133264,  0.        , 16.95979755],\n",
       "       [19.01146557, 25.12920768, 18.99199896, 21.80781793, 16.95979755],\n",
       "       [19.01146557, 25.12920768, 18.99199896, 21.80781793, 16.95979755],\n",
       "       [19.01146557, 25.12920768, 18.99199896,  0.        , 16.95979755],\n",
       "       [19.01146557, 25.12920768,  6.33066632,  0.        , 16.95979755],\n",
       "       [19.01146557,  0.        , 25.32266528, 65.4234538 , 16.95979755],\n",
       "       [19.01146557,  0.        , 25.32266528, 43.61563586, 16.95979755],\n",
       "       [19.01146557,  0.        ,  6.33066632,  0.        , 16.95979755],\n",
       "       [19.01146557, 25.12920768,  6.33066632,  0.        , 16.95979755],\n",
       "       [19.01146557,  0.        ,  6.33066632,  0.        , 16.95979755],\n",
       "       [19.01146557,  0.        , 12.66133264,  0.        , 16.95979755],\n",
       "       [19.01146557, 25.12920768, 12.66133264,  0.        , 16.95979755],\n",
       "       [19.01146557,  0.        ,  6.33066632,  0.        , 16.95979755],\n",
       "       [19.01146557, 25.12920768, 12.66133264, 21.80781793, 16.95979755],\n",
       "       [19.01146557,  0.        , 12.66133264, 21.80781793, 16.95979755],\n",
       "       [19.01146557, 25.12920768, 25.32266528, 21.80781793, 16.95979755],\n",
       "       [19.01146557,  0.        ,  6.33066632,  0.        , 16.95979755],\n",
       "       [19.01146557,  0.        ,  6.33066632,  0.        , 16.95979755],\n",
       "       [19.01146557,  0.        , 25.32266528, 43.61563586, 16.95979755],\n",
       "       [19.01146557, 25.12920768, 18.99199896,  0.        , 16.95979755],\n",
       "       [19.01146557,  0.        ,  6.33066632,  0.        , 16.95979755],\n",
       "       [ 0.        , 25.12920768, 25.32266528,  0.        , 16.95979755],\n",
       "       [19.01146557,  0.        , 12.66133264,  0.        , 16.95979755],\n",
       "       [ 0.        , 25.12920768, 12.66133264,  0.        , 16.95979755],\n",
       "       [19.01146557, 25.12920768, 12.66133264, 21.80781793, 16.95979755],\n",
       "       [19.01146557,  0.        , 25.32266528, 21.80781793, 16.95979755],\n",
       "       [ 0.        ,  0.        , 12.66133264,  0.        , 16.95979755],\n",
       "       [19.01146557, 25.12920768, 25.32266528, 43.61563586, 16.95979755],\n",
       "       [19.01146557,  0.        ,  6.33066632,  0.        , 16.95979755],\n",
       "       [ 0.        ,  0.        ,  6.33066632,  0.        , 16.95979755],\n",
       "       [19.01146557,  0.        , 18.99199896, 21.80781793, 16.95979755],\n",
       "       [19.01146557,  0.        , 12.66133264, 21.80781793, 16.95979755],\n",
       "       [19.01146557,  0.        , 25.32266528, 21.80781793, 16.95979755],\n",
       "       [19.01146557, 25.12920768, 25.32266528, 21.80781793, 16.95979755],\n",
       "       [19.01146557, 25.12920768,  6.33066632,  0.        , 16.95979755],\n",
       "       [19.01146557, 25.12920768, 25.32266528,  0.        , 16.95979755],\n",
       "       [19.01146557,  0.        , 25.32266528, 65.4234538 , 16.95979755],\n",
       "       [19.01146557, 25.12920768, 12.66133264, 21.80781793, 16.95979755],\n",
       "       [19.01146557, 25.12920768,  6.33066632,  0.        , 16.95979755],\n",
       "       [19.01146557,  0.        , 12.66133264,  0.        , 16.95979755],\n",
       "       [19.01146557,  0.        ,  6.33066632,  0.        , 16.95979755],\n",
       "       [19.01146557, 25.12920768,  6.33066632,  0.        , 16.95979755],\n",
       "       [19.01146557, 25.12920768, 18.99199896, 43.61563586, 16.95979755],\n",
       "       [19.01146557, 25.12920768, 18.99199896, 43.61563586, 16.95979755],\n",
       "       [ 0.        , 25.12920768, 18.99199896, 43.61563586, 16.95979755],\n",
       "       [19.01146557,  0.        , 18.99199896,  0.        , 16.95979755],\n",
       "       [19.01146557, 25.12920768,  6.33066632,  0.        , 16.95979755],\n",
       "       [ 0.        ,  0.        , 12.66133264, 21.80781793, 16.95979755],\n",
       "       [19.01146557, 25.12920768,  6.33066632,  0.        , 16.95979755],\n",
       "       [19.01146557, 25.12920768, 18.99199896, 43.61563586, 16.95979755],\n",
       "       [19.01146557, 25.12920768, 25.32266528, 21.80781793, 16.95979755],\n",
       "       [ 0.        ,  0.        , 25.32266528, 43.61563586, 16.95979755],\n",
       "       [ 0.        ,  0.        , 25.32266528, 21.80781793, 16.95979755],\n",
       "       [19.01146557, 25.12920768, 12.66133264, 21.80781793, 16.95979755],\n",
       "       [19.01146557, 25.12920768, 25.32266528, 21.80781793, 16.95979755],\n",
       "       [19.01146557, 25.12920768,  6.33066632,  0.        , 16.95979755],\n",
       "       [19.01146557, 25.12920768, 25.32266528,  0.        , 16.95979755],\n",
       "       [19.01146557, 25.12920768, 18.99199896,  0.        , 16.95979755],\n",
       "       [19.01146557,  0.        , 18.99199896, 21.80781793, 16.95979755],\n",
       "       [19.01146557, 25.12920768, 12.66133264, 21.80781793, 16.95979755],\n",
       "       [19.01146557, 25.12920768, 12.66133264,  0.        , 16.95979755],\n",
       "       [19.01146557,  0.        , 25.32266528, 43.61563586, 16.95979755],\n",
       "       [19.01146557, 25.12920768,  6.33066632,  0.        , 16.95979755],\n",
       "       [19.01146557, 25.12920768, 12.66133264, 21.80781793, 16.95979755],\n",
       "       [19.01146557, 25.12920768, 25.32266528, 65.4234538 , 16.95979755],\n",
       "       [19.01146557, 25.12920768, 25.32266528, 65.4234538 , 16.95979755],\n",
       "       [19.01146557,  0.        , 18.99199896,  0.        , 16.95979755],\n",
       "       [19.01146557, 25.12920768, 25.32266528, 65.4234538 , 16.95979755],\n",
       "       [19.01146557, 25.12920768, 25.32266528, 21.80781793, 16.95979755],\n",
       "       [19.01146557, 25.12920768, 12.66133264, 21.80781793, 16.95979755],\n",
       "       [19.01146557, 25.12920768, 25.32266528,  0.        , 16.95979755],\n",
       "       [19.01146557, 25.12920768, 25.32266528,  0.        , 16.95979755],\n",
       "       [19.01146557, 25.12920768,  6.33066632,  0.        , 16.95979755],\n",
       "       [ 0.        , 25.12920768, 12.66133264, 21.80781793, 16.95979755],\n",
       "       [19.01146557, 25.12920768, 18.99199896,  0.        , 16.95979755],\n",
       "       [ 0.        ,  0.        , 12.66133264,  0.        , 16.95979755],\n",
       "       [19.01146557, 25.12920768, 18.99199896, 43.61563586, 16.95979755],\n",
       "       [ 0.        , 25.12920768,  6.33066632,  0.        , 16.95979755],\n",
       "       [19.01146557, 25.12920768, 25.32266528,  0.        , 16.95979755],\n",
       "       [19.01146557, 25.12920768, 25.32266528, 21.80781793, 16.95979755],\n",
       "       [19.01146557, 25.12920768, 18.99199896, 21.80781793, 16.95979755],\n",
       "       [19.01146557, 25.12920768,  6.33066632,  0.        , 16.95979755],\n",
       "       [19.01146557, 25.12920768,  6.33066632,  0.        , 16.95979755],\n",
       "       [19.01146557, 25.12920768, 25.32266528,  0.        , 16.95979755],\n",
       "       [ 0.        , 25.12920768, 12.66133264, 21.80781793, 16.95979755],\n",
       "       [ 0.        , 25.12920768, 18.99199896,  0.        , 16.95979755],\n",
       "       [19.01146557, 25.12920768, 12.66133264, 21.80781793, 16.95979755],\n",
       "       [ 0.        ,  0.        , 18.99199896,  0.        , 16.95979755],\n",
       "       [19.01146557,  0.        , 25.32266528,  0.        , 16.95979755],\n",
       "       [19.01146557,  0.        , 12.66133264, 21.80781793, 16.95979755],\n",
       "       [19.01146557, 25.12920768,  6.33066632,  0.        , 16.95979755],\n",
       "       [ 0.        , 25.12920768,  6.33066632,  0.        , 16.95979755],\n",
       "       [ 0.        , 25.12920768,  6.33066632,  0.        , 16.95979755],\n",
       "       [19.01146557,  0.        , 25.32266528, 43.61563586, 16.95979755],\n",
       "       [19.01146557, 25.12920768,  6.33066632,  0.        , 16.95979755],\n",
       "       [19.01146557,  0.        ,  6.33066632,  0.        , 16.95979755],\n",
       "       [19.01146557, 25.12920768, 12.66133264, 21.80781793, 16.95979755],\n",
       "       [19.01146557,  0.        , 25.32266528, 21.80781793, 16.95979755],\n",
       "       [19.01146557, 25.12920768, 25.32266528,  0.        , 16.95979755],\n",
       "       [19.01146557,  0.        , 25.32266528, 65.4234538 , 16.95979755],\n",
       "       [19.01146557, 25.12920768,  6.33066632,  0.        , 16.95979755],\n",
       "       [19.01146557, 25.12920768,  6.33066632,  0.        , 16.95979755],\n",
       "       [19.01146557, 25.12920768, 18.99199896,  0.        , 16.95979755],\n",
       "       [19.01146557,  0.        ,  6.33066632,  0.        , 16.95979755],\n",
       "       [19.01146557,  0.        , 25.32266528, 43.61563586, 16.95979755]])"
      ]
     },
     "execution_count": 3,
     "metadata": {},
     "output_type": "execute_result"
    }
   ],
   "source": [
    "X = np.hstack((Xt, np.ones((Xt.shape[0], 1))))\n",
    "w = np.power(X.T@X, -1)@X.T@yt\n",
    "#np.dot(X, np.array([-8.49222821,  2.4822138 ,  2.95430727,  4.64953914, -5.47160051]))\n",
    "y_hat = X * w\n",
    "y_hat"
   ]
  },
  {
   "cell_type": "markdown",
   "metadata": {
    "colab_type": "text",
    "id": "4-uaG92sPBXg"
   },
   "source": [
    "b) Repeat a) but this time with `LinearRegression` from `sklearn.linear_model`"
   ]
  },
  {
   "cell_type": "markdown",
   "metadata": {},
   "source": [
    "Result: array([-8.49222821,  2.4822138 ,  2.95430727,  4.64953914, -5.47160051])\n",
    "Don't forget the intercept, you should have 5 numbers!"
   ]
  },
  {
   "cell_type": "markdown",
   "metadata": {
    "colab_type": "text",
    "id": "pNIUUugxPmSZ"
   },
   "source": [
    "c) Determine the Root Mean Square Error (RMSE) and the average negative log-likelihood (NLL) on the testset. For NLL we assume that the conditional probability distrubution (CPD) $p(y|x)$ is given by the density of a Gaussian with constant variance $\\sigma^2$. Estimate $\\sigma^2$ using the variance of the residuals. Use the variance estimation with $1/N$. \n",
    "\n",
    "Result: $ RMSE \\approx 8.58812$, $\\hat \\sigma^2 \\approx 73.7559$, $\\tt{NLL} \\approx 3.569$"
   ]
  },
  {
   "cell_type": "markdown",
   "metadata": {
    "colab_type": "text",
    "id": "nCJHxadORefq"
   },
   "source": [
    "d) For the testset: plot the predicted mean number of fish caught ($\\mu$) against observed number of fish caught. Further include the 2.5 and 97.5 precentile of p(y|x), the conditional predictive distribution (CPD) of $y$ for a given $x$. Why is a Gaussian not ideal for that kind of data? \n",
    "\n",
    "Hint: For the Gaussian the 2.5% and the 97.5% percentile is approximatiy given by $\\mu \\pm 1.96*\\sigma$"
   ]
  },
  {
   "cell_type": "markdown",
   "metadata": {
    "colab_type": "text",
    "id": "-wo5FcZ_VHIw"
   },
   "source": [
    "e) This data is count data. Count data has only positive values and also the distribution is discrete. You cannot catch 0.5 fish and that the CPD has probability density > 0 on negative number of fish is wrong too. A Gaussian as a CPD is therefore not ideal. \n",
    "\n",
    "Now use a Poissonian as CPD. If we assume a Poissonian then the probability to catch $k$ fish is given by \n",
    "$$\n",
    "  p(k) = \\exp(-\\mu) \\frac{\\mu^k}{k!}\n",
    "$$\n",
    "\n",
    "and the NLL is thus by:\n",
    "\n",
    "$$\n",
    " log(p(k)) = -\\mu  + k \\cdot \\log(\\mu) - log(k!)\n",
    "$$\n",
    "\n",
    "with $\\mu$ being the expectation. In our case the average number of fish expected.\n",
    "\n",
    "In the case of the probabilistic interpretation of the linear regression, $y_i$ for a given $x_i$ is distributed like a Gaussian. The paramter $\\mu_i$ from $N(\\mu_i,\\sigma^2)$ has been determined from $x_i$ via $\\mu_i= \\beta^T \\cdot x_i$ by minimizing the NLL. \n",
    "\n",
    "A small additional detail: For the Poissonian case, $\\mu_i$ needs to be positive. We therefore do not use $\\beta^T \\cdot x_i$ directly but \"pipe it through\" an exponential first to make it positive and thus link $\\mu_i=exp(\\beta^T \\cdot x_i)$ to the data.\n",
    "\n",
    "Use a gradient descent approach on the NLL to find the solution for the parameters. Calculate the RMSE and the NLL on the test set and compare with c).\n",
    "\n",
    "Hint: On the trainingset for the parameter values (1,1,1,1,1) the NLL should be approx 1508 and the gradient (1518.61, 1403.99, 1171.02, 5701.91, 3258.7). For the NLL a good learning rate would be 0.001 and training should be done for at least 5000 epochs."
   ]
  },
  {
   "cell_type": "markdown",
   "metadata": {},
   "source": [
    "f) Do the same plot as in d) but this time with a Poisson CPD. Hint you can use scipy.stats.poisson to calculate the percentiles."
   ]
  },
  {
   "cell_type": "markdown",
   "metadata": {},
   "source": [
    "\n",
    "## 2. Eigengesichter\n",
    "Die Hauptkomponentenanalyse lässt sich auch auf Bilder anwenden, indem man die Bildzeilen in einem einzigen Vektor aneinander hängt (*Stacking*). Die zugehörigen Richtungen extremaler Varianz heißen *Eigengesichter*. Sie eignen sich nicht nur zur Datenkompression, sondern auch zum Aufbau eines einfachen Gesichtserkennungssystems (s. M. Turk and A. Pentland, “Eigenfaces for Recognition”, Journal of Cognitive Neuroscience, vol. 3, no. 1, pp. 71–86, 1991). Für die Funktion eines solchen Systems ist es wichtig, dass die Gesichter zentriert und in derselben Größe abgebildet sind. Ein dafür geeigneter Datensatz ist ''Labeled Faces in the Wild'' der Universität von Massachusetts in Amherst (`http://vis-www.cs.umass.edu/lfw/lfw-funneled.tgz`, 233MB) mit Bildern von 13.000 Personen des öffentlichen Lebens aus dem Internet, alle mit Namen gelabelt.\n",
    "\n",
    "Aufgaben:"
   ]
  },
  {
   "cell_type": "markdown",
   "metadata": {},
   "source": [
    "a) Laden Sie sich den oben angegebenen Datensatz herunter. Erstellen Sie ein Python- Skript, dass die Verzeichnisse des Datensatzes durchsucht und die Personen ermittelt, für die mindestens 70 Bilder existieren. Die dafür geeigneten Funktionen finden sich im Standardmodul `os` bzw. `os.path`."
   ]
  },
  {
   "cell_type": "code",
   "execution_count": 4,
   "metadata": {},
   "outputs": [],
   "source": [
    "import tarfile, os\n",
    "\n",
    "if not os.path.exists('./exercise2_faces'):\n",
    "    file = tarfile.open('lfw-funneled.tgz')\n",
    "    file.extractall('./exercise2_faces')\n",
    "    file.close()\n"
   ]
  },
  {
   "cell_type": "code",
   "execution_count": 5,
   "metadata": {},
   "outputs": [
    {
     "data": {
      "text/plain": [
       "['Ariel_Sharon',\n",
       " 'Colin_Powell',\n",
       " 'Donald_Rumsfeld',\n",
       " 'George_W_Bush',\n",
       " 'Gerhard_Schroeder',\n",
       " 'Hugo_Chavez',\n",
       " 'Tony_Blair']"
      ]
     },
     "execution_count": 5,
     "metadata": {},
     "output_type": "execute_result"
    }
   ],
   "source": [
    "\n",
    "path = 'exercise2_faces/lfw_funneled'\n",
    "persons = []\n",
    "total_count = 0\n",
    "for dir in os.listdir(path):\n",
    "    if os.path.isdir(path + \"/\" + dir):\n",
    "        i = 0\n",
    "        for name in os.listdir(path + \"/\" + dir):\n",
    "                i += 1\n",
    "        if i >= 70:\n",
    "            persons.append(dir)\n",
    "            total_count += i\n",
    "persons    "
   ]
  },
  {
   "cell_type": "markdown",
   "metadata": {},
   "source": [
    "b) Erstellen Sie ein Python-Skript, das alle Bilder bis auf eines pro Person (diese werden später zum Testen des Klassifikators gebraucht) dieser am häufigsten abgebildeten Personen lädt, diese in Vektoren stackt und dann in einer gemeinsamen Designmatrix ablegt. Zum Laden der Bilder in Numpy-Arrays verwenden Sie am einfachsten das Modul `scikit-image`. Schneiden Sie zunächst einen einheitlichen zentralen Ausschnitt aus, der nur Augen und Mund enthält. Skalieren Sie die Bilder auf die Größe 32 × 32. Achten Sie darauf, vorher die Farbbilder in Grauwerte umzuwandeln (z.B. mit der Option `as_gray = True`) Legen Sie zusätzlich einen Vektor an, in dem der Name der Person (d.h. der Ordnername) für jede Zeile steht. Führen Sie die gleiche Art der Verarbeitung mit dem übrig gebliebenen Testbild pro Person durch und speichern Sie diese getrennt ab."
   ]
  },
  {
   "cell_type": "code",
   "execution_count": 39,
   "metadata": {},
   "outputs": [],
   "source": [
    "from skimage import io\n",
    "import numpy as np\n",
    "import matplotlib.pyplot as plt\n",
    "from skimage.transform import rescale\n",
    "\n",
    "training_images = []\n",
    "test_images = []\n",
    "test_names = []\n",
    "training_names = []\n",
    "for person in persons:\n",
    "    for picture in os.listdir(path + \"/\" + person):\n",
    "        img = io.imread(path + \"/\" + person + \"/\" + picture, as_gray = True).flatten()\n",
    "        training_images.append(img)\n",
    "        training_names.append(person)\n",
    "    test_images.append(training_images.pop())\n",
    "    test_names.append(training_names.pop())\n"
   ]
  },
  {
   "cell_type": "code",
   "execution_count": 40,
   "metadata": {},
   "outputs": [],
   "source": [
    "np_training_images = np.array(training_images)\n",
    "np_test_images = np.array(test_images)\n",
    "\n",
    "test_arr = []\n",
    "training_arr = []\n",
    "\n",
    "for image in np_test_images:\n",
    "    cropped = image.reshape(250, 250)[85:175, 85:175]\n",
    "    scaled = rescale(cropped, scale = 32 / cropped.shape[0])\n",
    "    test_arr.append(scaled.flatten())\n",
    "    #test_arr.append(rescale(cropped, scale = 32 / cropped.shape[0]).flatten())\n",
    "\n",
    "for image in np_training_images:\n",
    "    cropped = image.reshape(250, 250)[85:175, 85:175]\n",
    "    scaled = rescale(cropped, scale = 32 / cropped.shape[0])\n",
    "    training_arr.append(scaled.flatten())\n",
    "    #training_arr.append(rescale(cropped, scale = 32 / cropped.shape[0]).flatten())\n",
    "\n",
    "np_sc_training_arr = np.array(training_arr)\n",
    "np_sc_test_arr = np.array(test_arr)\n",
    "\n",
    "\n",
    "#io.imshow(np_sc_training_arr[0].reshape(32, 32))\n",
    "#plt.show()\n",
    "\n"
   ]
  },
  {
   "cell_type": "markdown",
   "metadata": {},
   "source": [
    "c) Wenden Sie nun Ihre Hauptkomponentenanalyse aus Arbeitsblatt 1 auf Ihre Designmatrix (Achtung: kopieren Sie alle Trainingsbilder für alle Personen als Zeilen in eine gemeinsame Designmatrix!) an. Stellen Sie die ersten 150 Eigenwerte in einem Diagramm und die ersten 12 Eigengesichter durch Umformung der gestackten Darstellung in das ursprüngliche Bildformat\n",
    "dar. Interpretieren Sie das Ergebnis."
   ]
  },
  {
   "cell_type": "code",
   "execution_count": 41,
   "metadata": {},
   "outputs": [
    {
     "data": {
      "text/plain": [
       "<matplotlib.collections.PathCollection at 0x19ea5cb3bb0>"
      ]
     },
     "execution_count": 41,
     "metadata": {},
     "output_type": "execute_result"
    },
    {
     "data": {
      "text/plain": [
       "<AxesSubplot:>"
      ]
     },
     "execution_count": 41,
     "metadata": {},
     "output_type": "execute_result"
    },
    {
     "data": {
      "text/plain": [
       "<matplotlib.image.AxesImage at 0x19ea5ccefa0>"
      ]
     },
     "execution_count": 41,
     "metadata": {},
     "output_type": "execute_result"
    },
    {
     "data": {
      "text/plain": [
       "Text(0.5, 1.0, '1. Hauptkomponente')"
      ]
     },
     "execution_count": 41,
     "metadata": {},
     "output_type": "execute_result"
    },
    {
     "data": {
      "text/plain": [
       "<AxesSubplot:>"
      ]
     },
     "execution_count": 41,
     "metadata": {},
     "output_type": "execute_result"
    },
    {
     "data": {
      "text/plain": [
       "<matplotlib.image.AxesImage at 0x19e7e4c8b80>"
      ]
     },
     "execution_count": 41,
     "metadata": {},
     "output_type": "execute_result"
    },
    {
     "data": {
      "text/plain": [
       "Text(0.5, 1.0, '2. Hauptkomponente')"
      ]
     },
     "execution_count": 41,
     "metadata": {},
     "output_type": "execute_result"
    },
    {
     "data": {
      "text/plain": [
       "<AxesSubplot:>"
      ]
     },
     "execution_count": 41,
     "metadata": {},
     "output_type": "execute_result"
    },
    {
     "data": {
      "text/plain": [
       "<matplotlib.image.AxesImage at 0x19e7e4b68e0>"
      ]
     },
     "execution_count": 41,
     "metadata": {},
     "output_type": "execute_result"
    },
    {
     "data": {
      "text/plain": [
       "Text(0.5, 1.0, '3. Hauptkomponente')"
      ]
     },
     "execution_count": 41,
     "metadata": {},
     "output_type": "execute_result"
    },
    {
     "data": {
      "text/plain": [
       "<AxesSubplot:>"
      ]
     },
     "execution_count": 41,
     "metadata": {},
     "output_type": "execute_result"
    },
    {
     "data": {
      "text/plain": [
       "<matplotlib.image.AxesImage at 0x19e7e538fd0>"
      ]
     },
     "execution_count": 41,
     "metadata": {},
     "output_type": "execute_result"
    },
    {
     "data": {
      "text/plain": [
       "Text(0.5, 1.0, '4. Hauptkomponente')"
      ]
     },
     "execution_count": 41,
     "metadata": {},
     "output_type": "execute_result"
    },
    {
     "data": {
      "text/plain": [
       "<AxesSubplot:>"
      ]
     },
     "execution_count": 41,
     "metadata": {},
     "output_type": "execute_result"
    },
    {
     "data": {
      "text/plain": [
       "<matplotlib.image.AxesImage at 0x19e7e577bb0>"
      ]
     },
     "execution_count": 41,
     "metadata": {},
     "output_type": "execute_result"
    },
    {
     "data": {
      "text/plain": [
       "Text(0.5, 1.0, '5. Hauptkomponente')"
      ]
     },
     "execution_count": 41,
     "metadata": {},
     "output_type": "execute_result"
    },
    {
     "data": {
      "text/plain": [
       "<AxesSubplot:>"
      ]
     },
     "execution_count": 41,
     "metadata": {},
     "output_type": "execute_result"
    },
    {
     "data": {
      "text/plain": [
       "<matplotlib.image.AxesImage at 0x19e7e577be0>"
      ]
     },
     "execution_count": 41,
     "metadata": {},
     "output_type": "execute_result"
    },
    {
     "data": {
      "text/plain": [
       "Text(0.5, 1.0, '6. Hauptkomponente')"
      ]
     },
     "execution_count": 41,
     "metadata": {},
     "output_type": "execute_result"
    },
    {
     "data": {
      "text/plain": [
       "<AxesSubplot:>"
      ]
     },
     "execution_count": 41,
     "metadata": {},
     "output_type": "execute_result"
    },
    {
     "data": {
      "text/plain": [
       "<matplotlib.image.AxesImage at 0x19e7e504940>"
      ]
     },
     "execution_count": 41,
     "metadata": {},
     "output_type": "execute_result"
    },
    {
     "data": {
      "text/plain": [
       "Text(0.5, 1.0, '7. Hauptkomponente')"
      ]
     },
     "execution_count": 41,
     "metadata": {},
     "output_type": "execute_result"
    },
    {
     "data": {
      "text/plain": [
       "<AxesSubplot:>"
      ]
     },
     "execution_count": 41,
     "metadata": {},
     "output_type": "execute_result"
    },
    {
     "data": {
      "text/plain": [
       "<matplotlib.image.AxesImage at 0x19e7d109c40>"
      ]
     },
     "execution_count": 41,
     "metadata": {},
     "output_type": "execute_result"
    },
    {
     "data": {
      "text/plain": [
       "Text(0.5, 1.0, '8. Hauptkomponente')"
      ]
     },
     "execution_count": 41,
     "metadata": {},
     "output_type": "execute_result"
    },
    {
     "data": {
      "text/plain": [
       "<AxesSubplot:>"
      ]
     },
     "execution_count": 41,
     "metadata": {},
     "output_type": "execute_result"
    },
    {
     "data": {
      "text/plain": [
       "<matplotlib.image.AxesImage at 0x19e3f394190>"
      ]
     },
     "execution_count": 41,
     "metadata": {},
     "output_type": "execute_result"
    },
    {
     "data": {
      "text/plain": [
       "Text(0.5, 1.0, '9. Hauptkomponente')"
      ]
     },
     "execution_count": 41,
     "metadata": {},
     "output_type": "execute_result"
    },
    {
     "data": {
      "text/plain": [
       "<AxesSubplot:>"
      ]
     },
     "execution_count": 41,
     "metadata": {},
     "output_type": "execute_result"
    },
    {
     "data": {
      "text/plain": [
       "<matplotlib.image.AxesImage at 0x19e3f2d44f0>"
      ]
     },
     "execution_count": 41,
     "metadata": {},
     "output_type": "execute_result"
    },
    {
     "data": {
      "text/plain": [
       "Text(0.5, 1.0, '10. Hauptkomponente')"
      ]
     },
     "execution_count": 41,
     "metadata": {},
     "output_type": "execute_result"
    },
    {
     "data": {
      "text/plain": [
       "<AxesSubplot:>"
      ]
     },
     "execution_count": 41,
     "metadata": {},
     "output_type": "execute_result"
    },
    {
     "data": {
      "text/plain": [
       "<matplotlib.image.AxesImage at 0x19e3f414700>"
      ]
     },
     "execution_count": 41,
     "metadata": {},
     "output_type": "execute_result"
    },
    {
     "data": {
      "text/plain": [
       "Text(0.5, 1.0, '11. Hauptkomponente')"
      ]
     },
     "execution_count": 41,
     "metadata": {},
     "output_type": "execute_result"
    },
    {
     "data": {
      "text/plain": [
       "<AxesSubplot:>"
      ]
     },
     "execution_count": 41,
     "metadata": {},
     "output_type": "execute_result"
    },
    {
     "data": {
      "text/plain": [
       "<matplotlib.image.AxesImage at 0x19e7e604880>"
      ]
     },
     "execution_count": 41,
     "metadata": {},
     "output_type": "execute_result"
    },
    {
     "data": {
      "text/plain": [
       "Text(0.5, 1.0, '12. Hauptkomponente')"
      ]
     },
     "execution_count": 41,
     "metadata": {},
     "output_type": "execute_result"
    },
    {
     "data": {
      "image/png": "[encoded data removed]",
      "text/plain": [
       "<Figure size 640x480 with 1 Axes>"
      ]
     },
     "metadata": {},
     "output_type": "display_data"
    },
    {
     "data": {
      "image/png": "[encoded data removed]",
      "text/plain": [
       "<Figure size 2000x1400 with 12 Axes>"
      ]
     },
     "metadata": {},
     "output_type": "display_data"
    }
   ],
   "source": [
    "import pca\n",
    "\n",
    "X, U, D, Vt, pc, a, std = pca.calc2(np_sc_training_arr, 12)\n",
    "\n",
    "eigenvalues = np.square(D) / (len(np_sc_training_arr) - 1)\n",
    "\n",
    "plt.scatter(np.arange(150), eigenvalues[:150])\n",
    "\n",
    "fig = plt.figure(figsize=(20,14))\n",
    "rows = 4\n",
    "cols = 3\n",
    "\n",
    "\n",
    "for i in range (0, len(pc)):\n",
    "    fig.add_subplot(rows, cols, i + 1)\n",
    "    plt.imshow(pc[i].reshape(32,32))\n",
    "    plt.title(str(i + 1) + \". Hauptkomponente\")    \n",
    "\n"
   ]
  },
  {
   "cell_type": "markdown",
   "metadata": {},
   "source": [
    "d. Von den Testbildern wird nun ebenfalls der Mittelwert der Trainingsdaten abgezogen (s. Schritt 1 im PCA-Algorithmus). Projizieren Sie jedes der Trainings- und Testbilder auf die ersten 7 Eigengesichter, d.h. Sie erhalten so für jedes Trainings- und Testbild 7 Merkmale. Die Gesichtserkennung geschieht nun dadurch, dass Sie den euklidischen Abstand des Testbildes in diesem 7-dimensionalen Merkmalsraum zu allen Trainingsbildern berechnen. Die Person des am nächsten liegenden Trainingsbildes (d.h. mit dem minimalen euklidischen Abstand) ist dann (vermutlich) auch die korrekte Person für das Testbild (Nächster-Nachbar-Klassifikator). Welche Bilder werden korrekt klassifiziert, welche Verwechslungen gibt es?"
   ]
  },
  {
   "cell_type": "code",
   "execution_count": 50,
   "metadata": {},
   "outputs": [
    {
     "data": {
      "text/plain": [
       "(1281, 7)"
      ]
     },
     "execution_count": 50,
     "metadata": {},
     "output_type": "execute_result"
    },
    {
     "data": {
      "text/plain": [
       "(7, 7)"
      ]
     },
     "execution_count": 50,
     "metadata": {},
     "output_type": "execute_result"
    },
    {
     "data": {
      "text/plain": [
       "['George_W_Bush',\n",
       " 'Ariel_Sharon',\n",
       " 'Gerhard_Schroeder',\n",
       " 'George_W_Bush',\n",
       " 'Colin_Powell',\n",
       " 'Tony_Blair',\n",
       " 'George_W_Bush']"
      ]
     },
     "execution_count": 50,
     "metadata": {},
     "output_type": "execute_result"
    },
    {
     "name": "stdout",
     "output_type": "stream",
     "text": [
      "-----------------\n"
     ]
    },
    {
     "data": {
      "text/plain": [
       "['Ariel_Sharon',\n",
       " 'Colin_Powell',\n",
       " 'Donald_Rumsfeld',\n",
       " 'George_W_Bush',\n",
       " 'Gerhard_Schroeder',\n",
       " 'Hugo_Chavez',\n",
       " 'Tony_Blair']"
      ]
     },
     "execution_count": 50,
     "metadata": {},
     "output_type": "execute_result"
    }
   ],
   "source": [
    "test_centered = (np_sc_test_arr - np.mean(np_sc_training_arr)) / np.std(np_sc_training_arr)\n",
    "\n",
    "X, U, D, Vt, pc, a, std = pca.calc2(np_sc_training_arr, 7)\n",
    "a_training = (X @ pc.T)\n",
    "a_test = (test_centered @ pc.T)\n",
    "\n",
    "min_distances = []\n",
    "estimated_persons = []\n",
    "i = 0\n",
    "\n",
    "for test_image in a_test:\n",
    "    j = 0\n",
    "    min_distances.append(np.Inf)\n",
    "    estimated_persons.append(\"\")\n",
    "    for training_image in a_training:\n",
    "        distance = np.linalg.norm(test_image - training_image)\n",
    "        if distance < min_distances[i]:\n",
    "            min_distances[i] = distance\n",
    "            #print(min_distances[i])\n",
    "            estimated_persons[i] = training_names[j]\n",
    "        j += 1\n",
    "    i += 1\n",
    "\n",
    "estimated_persons\n",
    "print(\"-----------------\")\n",
    "test_names\n",
    "\n",
    "\n"
   ]
  },
  {
   "cell_type": "markdown",
   "metadata": {},
   "source": [
    "\n",
    "## 3. Naiver Bayesklassifikator zur Gesichtserkennung\n",
    "Implementieren Sie den Gaussian-Naïve-Bayes-Klassifikator aus der Vorlesung. Testen Sie Ihre Implementierung am Datensatz ''Labeled Faces in the Wild'' aus Aufgabe 2, wiederum nur für Personen, für die mindestens 70 Bilder existieren. Teilen Sie Ihren Datensatz in 60 % Trainings- und 40% Testdaten (nach vorheriger Zufalls-Permutation der Reihenfolge) und skalieren Sie die Bilder wieder auf 1/8 der Originalgröße. Führen Sie anschließend eine Hauptkomponentenanalyse auf den Trainingsdaten durch und projizieren Sie sowohl Trainings- als auch Testbilder auf die ersten 7 Eigengesichter. Trainieren Sie Ihren GNB-Klassifikator auf dem Trainingsdatensatz als ''George-W.-Bush-Detektor'', d.h. alle zu dieser Person gehörigen Bilder werden mit 1 gelabelt, alle sonstigen mit –1. Werten Sie Ihren Klassifikator sowohl auf den Trainings- wie auf den unabhängigen Testdaten aus. Bestimmen Sie dafür jeweils die Detektionswahrscheinlichkeit, Richtig-Negativ-Rate, Fehlalarmrate und Falsch-Negativ-Rate.\n"
   ]
  },
  {
   "cell_type": "code",
   "execution_count": null,
   "metadata": {},
   "outputs": [],
   "source": []
  }
 ],
 "metadata": {
  "colab": {
   "collapsed_sections": [],
   "name": "Linear_Regression.ipynb",
   "provenance": []
  },
  "kernelspec": {
   "display_name": "Python 3.9.2 64-bit",
   "language": "python",
   "name": "python3"
  },
  "language_info": {
   "codemirror_mode": {
    "name": "ipython",
    "version": 3
   },
   "file_extension": ".py",
   "mimetype": "text/x-python",
   "name": "python",
   "nbconvert_exporter": "python",
   "pygments_lexer": "ipython3",
   "version": "3.9.2"
  },
  "vscode": {
   "interpreter": {
    "hash": "6c515301746aabaada6c4518fedffc3853a21cdbb10406cb7fa33bb40faa492f"
   }
  }
 },
 "nbformat": 4,
 "nbformat_minor": 1
}
