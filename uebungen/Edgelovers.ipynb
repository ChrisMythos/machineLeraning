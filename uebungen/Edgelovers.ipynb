{
 "cells": [
  {
   "cell_type": "markdown",
   "metadata": {},
   "source": [
    "## Simple CNN for Edgelovers\n",
    "\n",
    "\n",
    "In this notebook you train a very simple CNN with only 1 kernel to discriminate images containing vertical (y=0) from those containing horizontal stripes (y=1). \n",
    "\n",
    "![](ch02_2.20_kernel.png)\n",
    "\n",
    "### a)  Generation of the data\n",
    "Write a function which creates an artficially dataset of greyscale images (50x50 pixel) with 10 vertical or horizontal bars (10 pixel long). Use this function to create a training and validation dataset of 1000 examples each.\n",
    "\n",
    "### b) Build the simplest possible CNN\n",
    "Make a CNN with one convolution, haveing two outputs (one for horizontal, one for vertical). Train the CNN on the data from a). \n",
    "* Plot the learning curves: (epochs vs training loss and validation loss) and epochs vs accuracy.You should get an accuracy of approximatly 1.\n",
    "\n",
    "### c) Visualize the learned kernel\n",
    "Visualize the learned kernel, you might want to use `model.get_weights()`. Does the learned kernel makes sense?"
   ]
  }
 ],
 "metadata": {
  "kernelspec": {
   "display_name": "Python 3",
   "language": "python",
   "name": "python3"
  },
  "language_info": {
   "codemirror_mode": {
    "name": "ipython",
    "version": 3
   },
   "file_extension": ".py",
   "mimetype": "text/x-python",
   "name": "python",
   "nbconvert_exporter": "python",
   "pygments_lexer": "ipython3",
   "version": "3.6.8"
  }
 },
 "nbformat": 4,
 "nbformat_minor": 2
}
