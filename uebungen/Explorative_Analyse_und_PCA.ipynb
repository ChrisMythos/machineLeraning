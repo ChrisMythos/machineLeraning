{
 "cells": [
  {
   "cell_type": "markdown",
   "id": "aabe4839",
   "metadata": {},
   "source": [
    "# Arbeitsblatt 1: Explorative Analyse und Hauptkomponentenanalyse\n",
    "\n",
    "## 1. Explorative Analyse des Datensatzes ''Boston Housing''\n",
    "\n",
    "*Boston Housing* ist ein berühmter Datensatz zur Evaluierung von Regressionsalgorithmen. Er enthält 506 Einträge mit jeweils 13 Variablen. Ziel ist es, den Hauspreis (`tgt`) aus den anderen Variablen vorherzusagen. Der Download dieses Datensatzes in einen Pandas-DataFrame wird folgendermaßen durchgeführt:"
   ]
  },
  {
   "cell_type": "code",
   "execution_count": null,
   "id": "601f0af8",
   "metadata": {},
   "outputs": [],
   "source": [
    "import matplotlib.pyplot as plt\n",
    "import numpy as np\n",
    "import pandas as pd\n",
    "%matplotlib inline"
   ]
  },
  {
   "cell_type": "code",
   "execution_count": null,
   "id": "3f762d78",
   "metadata": {},
   "outputs": [],
   "source": [
    "url = 'https://archive.ics.uci.edu/ml/machine-learning-databases/housing/housing.data'\n",
    "cols = ['CRIM','ZN','INDUS','CHAS','NOX','RM','AGE','DIS','RAD','TAX','PTRATIO','B',\n",
    "        'LSTAT','TGT']\n",
    "boston = pd.read_csv(url, sep=' ', skipinitialspace=True, header=None, names=cols, \n",
    "                     index_col=False)"
   ]
  },
  {
   "cell_type": "markdown",
   "id": "1d86d8bb",
   "metadata": {},
   "source": [
    "Wichtig für diese Übung ist eine grundlegende Vertrautheit mit den Python-Paketen Numpy und Pandas. Die Abgabe der Aufgabe erfolgt als fertiges IPython-Notebook mit Kommentaren in Markdown.\n",
    "\n",
    "Aufgaben:"
   ]
  },
  {
   "cell_type": "markdown",
   "id": "ce3c97f8",
   "metadata": {},
   "source": [
    "a) Führen Sie für diesen Datensatz eine explorative Analyse wie in der Vorlesung gezeigt mithilfe eines IPython-Notebooks und den Paketen Pandas und Numpy durch. "
   ]
  },
  {
   "cell_type": "markdown",
   "id": "40bb9af9",
   "metadata": {},
   "source": [
    "b) Beantworten Sie anhand der Darstellung der Streumatrix folgende Fragen: Welche der Variablen sind kategorisch? Welche der Variablen eignen sich gut zur Vorhersage des Hauspreises und warum? Welche dieser Variablen sind miteinander korreliert? Welche sind daher Kandidaten, die man evtl. weglassen könnte? (Beantwortung bitte als Markup in Notebook eintragen)"
   ]
  },
  {
   "cell_type": "markdown",
   "id": "2ab259ae",
   "metadata": {},
   "source": [
    "c) Die Dokumentation der eingesetzten Systemkonfiguration und Paketversionen erfolgt durch das Skript `version_information` von R. H. Johanson. Installation über"
   ]
  },
  {
   "cell_type": "code",
   "execution_count": null,
   "id": "4f0ee591",
   "metadata": {},
   "outputs": [],
   "source": [
    "pip install version-information"
   ]
  },
  {
   "cell_type": "markdown",
   "id": "9b0defe5",
   "metadata": {},
   "source": [
    "Im Notebook-Header muss das Paket importiert werden über"
   ]
  },
  {
   "cell_type": "code",
   "execution_count": 6,
   "id": "6307bd8f",
   "metadata": {},
   "outputs": [],
   "source": [
    "%load_ext version_information"
   ]
  },
  {
   "cell_type": "markdown",
   "id": "927827b8",
   "metadata": {},
   "source": [
    "Danach kann die Information über die Systemkonfiguration dargestellt werden durch"
   ]
  },
  {
   "cell_type": "code",
   "execution_count": 7,
   "id": "49bc6337",
   "metadata": {},
   "outputs": [
    {
     "data": {
      "application/json": {
       "Software versions": [
        {
         "module": "Python",
         "version": "3.7.10 64bit [Clang 10.0.0 ]"
        },
        {
         "module": "IPython",
         "version": "7.18.1"
        },
        {
         "module": "OS",
         "version": "Darwin 20.6.0 x86_64 i386 64bit"
        }
       ]
      },
      "text/html": [
       "<table><tr><th>Software</th><th>Version</th></tr><tr><td>Python</td><td>3.7.10 64bit [Clang 10.0.0 ]</td></tr><tr><td>IPython</td><td>7.18.1</td></tr><tr><td>OS</td><td>Darwin 20.6.0 x86\\_64 i386 64bit</td></tr><tr><td colspan='2'>Tue Oct 05 12:44:52 2021 CEST</td></tr></table>"
      ],
      "text/latex": [
       "\\begin{tabular}{|l|l|}\\hline\n",
       "{\\bf Software} & {\\bf Version} \\\\ \\hline\\hline\n",
       "Python & 3.7.10 64bit [Clang 10.0.0 ] \\\\ \\hline\n",
       "IPython & 7.18.1 \\\\ \\hline\n",
       "OS & Darwin 20.6.0 x86\\_64 i386 64bit \\\\ \\hline\n",
       "\\hline \\multicolumn{2}{|l|}{Tue Oct 05 12:44:52 2021 CEST} \\\\ \\hline\n",
       "\\end{tabular}\n"
      ],
      "text/plain": [
       "Software versions\n",
       "Python 3.7.10 64bit [Clang 10.0.0 ]\n",
       "IPython 7.18.1\n",
       "OS Darwin 20.6.0 x86_64 i386 64bit\n",
       "Tue Oct 05 12:44:52 2021 CEST"
      ]
     },
     "execution_count": 7,
     "metadata": {},
     "output_type": "execute_result"
    }
   ],
   "source": [
    "%version_information"
   ]
  },
  {
   "cell_type": "markdown",
   "id": "bc6f74f8",
   "metadata": {},
   "source": [
    "Sollen zusätzlich Versionsinformationen über die eingesetzten Pakete dargestellt werden, verwendet man (hier z.B. Numpy und Pandas)"
   ]
  },
  {
   "cell_type": "code",
   "execution_count": 8,
   "id": "5ab7f0b8",
   "metadata": {},
   "outputs": [
    {
     "data": {
      "application/json": {
       "Software versions": [
        {
         "module": "Python",
         "version": "3.7.10 64bit [Clang 10.0.0 ]"
        },
        {
         "module": "IPython",
         "version": "7.18.1"
        },
        {
         "module": "OS",
         "version": "Darwin 20.6.0 x86_64 i386 64bit"
        },
        {
         "module": "numpy",
         "version": "1.20.2"
        },
        {
         "module": "pandas",
         "version": "1.2.4"
        }
       ]
      },
      "text/html": [
       "<table><tr><th>Software</th><th>Version</th></tr><tr><td>Python</td><td>3.7.10 64bit [Clang 10.0.0 ]</td></tr><tr><td>IPython</td><td>7.18.1</td></tr><tr><td>OS</td><td>Darwin 20.6.0 x86\\_64 i386 64bit</td></tr><tr><td>numpy</td><td>1.20.2</td></tr><tr><td>pandas</td><td>1.2.4</td></tr><tr><td colspan='2'>Tue Oct 05 12:47:10 2021 CEST</td></tr></table>"
      ],
      "text/latex": [
       "\\begin{tabular}{|l|l|}\\hline\n",
       "{\\bf Software} & {\\bf Version} \\\\ \\hline\\hline\n",
       "Python & 3.7.10 64bit [Clang 10.0.0 ] \\\\ \\hline\n",
       "IPython & 7.18.1 \\\\ \\hline\n",
       "OS & Darwin 20.6.0 x86\\_64 i386 64bit \\\\ \\hline\n",
       "numpy & 1.20.2 \\\\ \\hline\n",
       "pandas & 1.2.4 \\\\ \\hline\n",
       "\\hline \\multicolumn{2}{|l|}{Tue Oct 05 12:47:10 2021 CEST} \\\\ \\hline\n",
       "\\end{tabular}\n"
      ],
      "text/plain": [
       "Software versions\n",
       "Python 3.7.10 64bit [Clang 10.0.0 ]\n",
       "IPython 7.18.1\n",
       "OS Darwin 20.6.0 x86_64 i386 64bit\n",
       "numpy 1.20.2\n",
       "pandas 1.2.4\n",
       "Tue Oct 05 12:47:10 2021 CEST"
      ]
     },
     "execution_count": 8,
     "metadata": {},
     "output_type": "execute_result"
    }
   ],
   "source": [
    "%version_information numpy, pandas"
   ]
  },
  {
   "cell_type": "markdown",
   "id": "8f4fb119",
   "metadata": {},
   "source": [
    "Diese Zeilen sollten immer am Ende des Notebooks aufgerufen werden, um ein Mindestmaß an Reproduzierbarkeit sicherzustellen."
   ]
  },
  {
   "cell_type": "code",
   "execution_count": null,
   "id": "5067e50c",
   "metadata": {},
   "outputs": [],
   "source": []
  }
 ],
 "metadata": {
  "kernelspec": {
   "display_name": "Python 3",
   "language": "python",
   "name": "python3"
  },
  "language_info": {
   "codemirror_mode": {
    "name": "ipython",
    "version": 3
   },
   "file_extension": ".py",
   "mimetype": "text/x-python",
   "name": "python",
   "nbconvert_exporter": "python",
   "pygments_lexer": "ipython3",
   "version": "3.7.10"
  }
 },
 "nbformat": 4,
 "nbformat_minor": 5
}
