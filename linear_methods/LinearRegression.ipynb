{
  "nbformat": 4,
  "nbformat_minor": 0,
  "metadata": {
    "kernelspec": {
      "display_name": "Python 3",
      "language": "python",
      "name": "python3"
    },
    "language_info": {
      "codemirror_mode": {
        "name": "ipython",
        "version": 3
      },
      "file_extension": ".py",
      "mimetype": "text/x-python",
      "name": "python",
      "nbconvert_exporter": "python",
      "pygments_lexer": "ipython3",
      "version": "3.6.8"
    },
    "colab": {
      "name": "LinearRegression.ipynb",
      "provenance": [],
      "include_colab_link": true
    }
  },
  "cells": [
    {
      "cell_type": "markdown",
      "metadata": {
        "id": "view-in-github",
        "colab_type": "text"
      },
      "source": [
        "<a href=\"https://colab.research.google.com/github/ioskn/mldl_htwg/blob/master/linear_methods/LinearRegression.ipynb\" target=\"_parent\"><img src=\"https://colab.research.google.com/assets/colab-badge.svg\" alt=\"Open In Colab\"/></a>"
      ]
    },
    {
      "cell_type": "markdown",
      "metadata": {
        "id": "TXfahHOPBPtw"
      },
      "source": [
        "## Notebook demonstrating Linear Regression (Curve Fitting)\n",
        "\n",
        "This notebook demonstrates the curve fitting part of linear regression. \n",
        "\n",
        "*Please note that we did not split the data into a training and test set as one should do*. This notbook is just for illustration."
      ]
    },
    {
      "cell_type": "code",
      "metadata": {
        "colab": {
          "base_uri": "https://localhost:8080/"
        },
        "id": "Q6YvB-_CBPt0",
        "outputId": "ebd2e589-023a-4c16-a097-96870dee9959"
      },
      "source": [
        "#This is just for the autodiff part. Not really needed.\n",
        "import tensorflow as tf\n",
        "try: #If running in colab \n",
        "    import google.colab\n",
        "    IN_COLAB = True \n",
        "except:\n",
        "    IN_COLAB = False\n",
        "if (not tf.__version__.startswith('2')): #Checking if tf 2.0 is installed\n",
        "    if IN_COLAB: #If running in colab install tf 2.0\n",
        "        !pip install tensorflow-gpu==2.0.0-rc0\n",
        "        !pip install tensorflow-probability==0.8.0-rc0\n",
        "    print('Please install tensorflow 2.0 to run this notebook')\n",
        "print('Tensorflow version: ',tf.__version__, ' running in colab?: ', IN_COLAB)"
      ],
      "execution_count": 1,
      "outputs": [
        {
          "output_type": "stream",
          "name": "stdout",
          "text": [
            "Tensorflow version:  2.6.0  running in colab?:  True\n"
          ]
        }
      ]
    },
    {
      "cell_type": "code",
      "metadata": {
        "colab": {
          "base_uri": "https://localhost:8080/"
        },
        "id": "3e4n0ez_BPt1",
        "outputId": "3a924b27-d2d6-4418-e471-8764c6d4de01"
      },
      "source": [
        "# Some imports\n",
        "import matplotlib.pyplot as plt\n",
        "import numpy as np\n",
        "from sklearn.model_selection import train_test_split\n",
        "from sklearn.metrics import mean_absolute_error, mean_squared_error\n",
        "import seaborn as sns\n",
        "import tensorflow_probability as tfp\n",
        "import tensorflow as tf\n",
        "\n",
        "#To make ploting consitent\n",
        "sns.reset_defaults()\n",
        "sns.set_context(context='talk',font_scale=0.7)\n",
        "\n",
        "%matplotlib inline\n",
        "plt.style.use('default')\n",
        "np.random.seed(42)\n",
        "print(\"TFP Version\", tfp.__version__)\n",
        "print(\"TF  Version\",tf.__version__)\n",
        "import pandas as pd"
      ],
      "execution_count": 2,
      "outputs": [
        {
          "output_type": "stream",
          "name": "stdout",
          "text": [
            "TFP Version 0.14.1\n",
            "TF  Version 2.6.0\n"
          ]
        }
      ]
    },
    {
      "cell_type": "code",
      "metadata": {
        "colab": {
          "base_uri": "https://localhost:8080/",
          "height": 417
        },
        "id": "GeMO49S1BPt2",
        "outputId": "fcb40745-9f79-41b1-8712-72325931eace"
      },
      "source": [
        "# The adverting data set from ILSR\n",
        "import os\n",
        "from urllib.request import urlretrieve\n",
        "if not os.path.isfile('Advertising.csv'):\n",
        "    print(\"Downloading\")\n",
        "    urlretrieve('https://raw.githubusercontent.com/ioskn/mldl_htwg/master/data/Advertising.csv',filename = 'Advertising.csv')\n",
        "advertising = pd.read_csv('Advertising.csv', usecols=[1,2,3,4])\n",
        "advertising.insert(0, 'Intercept',np.ones((200,1)))\n",
        "advertising"
      ],
      "execution_count": 6,
      "outputs": [
        {
          "output_type": "execute_result",
          "data": {
            "text/html": [
              "<div>\n",
              "<style scoped>\n",
              "    .dataframe tbody tr th:only-of-type {\n",
              "        vertical-align: middle;\n",
              "    }\n",
              "\n",
              "    .dataframe tbody tr th {\n",
              "        vertical-align: top;\n",
              "    }\n",
              "\n",
              "    .dataframe thead th {\n",
              "        text-align: right;\n",
              "    }\n",
              "</style>\n",
              "<table border=\"1\" class=\"dataframe\">\n",
              "  <thead>\n",
              "    <tr style=\"text-align: right;\">\n",
              "      <th></th>\n",
              "      <th>Intercept</th>\n",
              "      <th>TV</th>\n",
              "      <th>Radio</th>\n",
              "      <th>Newspaper</th>\n",
              "      <th>Sales</th>\n",
              "    </tr>\n",
              "  </thead>\n",
              "  <tbody>\n",
              "    <tr>\n",
              "      <th>0</th>\n",
              "      <td>1.0</td>\n",
              "      <td>230.1</td>\n",
              "      <td>37.8</td>\n",
              "      <td>69.2</td>\n",
              "      <td>22.1</td>\n",
              "    </tr>\n",
              "    <tr>\n",
              "      <th>1</th>\n",
              "      <td>1.0</td>\n",
              "      <td>44.5</td>\n",
              "      <td>39.3</td>\n",
              "      <td>45.1</td>\n",
              "      <td>10.4</td>\n",
              "    </tr>\n",
              "    <tr>\n",
              "      <th>2</th>\n",
              "      <td>1.0</td>\n",
              "      <td>17.2</td>\n",
              "      <td>45.9</td>\n",
              "      <td>69.3</td>\n",
              "      <td>9.3</td>\n",
              "    </tr>\n",
              "    <tr>\n",
              "      <th>3</th>\n",
              "      <td>1.0</td>\n",
              "      <td>151.5</td>\n",
              "      <td>41.3</td>\n",
              "      <td>58.5</td>\n",
              "      <td>18.5</td>\n",
              "    </tr>\n",
              "    <tr>\n",
              "      <th>4</th>\n",
              "      <td>1.0</td>\n",
              "      <td>180.8</td>\n",
              "      <td>10.8</td>\n",
              "      <td>58.4</td>\n",
              "      <td>12.9</td>\n",
              "    </tr>\n",
              "    <tr>\n",
              "      <th>...</th>\n",
              "      <td>...</td>\n",
              "      <td>...</td>\n",
              "      <td>...</td>\n",
              "      <td>...</td>\n",
              "      <td>...</td>\n",
              "    </tr>\n",
              "    <tr>\n",
              "      <th>195</th>\n",
              "      <td>1.0</td>\n",
              "      <td>38.2</td>\n",
              "      <td>3.7</td>\n",
              "      <td>13.8</td>\n",
              "      <td>7.6</td>\n",
              "    </tr>\n",
              "    <tr>\n",
              "      <th>196</th>\n",
              "      <td>1.0</td>\n",
              "      <td>94.2</td>\n",
              "      <td>4.9</td>\n",
              "      <td>8.1</td>\n",
              "      <td>9.7</td>\n",
              "    </tr>\n",
              "    <tr>\n",
              "      <th>197</th>\n",
              "      <td>1.0</td>\n",
              "      <td>177.0</td>\n",
              "      <td>9.3</td>\n",
              "      <td>6.4</td>\n",
              "      <td>12.8</td>\n",
              "    </tr>\n",
              "    <tr>\n",
              "      <th>198</th>\n",
              "      <td>1.0</td>\n",
              "      <td>283.6</td>\n",
              "      <td>42.0</td>\n",
              "      <td>66.2</td>\n",
              "      <td>25.5</td>\n",
              "    </tr>\n",
              "    <tr>\n",
              "      <th>199</th>\n",
              "      <td>1.0</td>\n",
              "      <td>232.1</td>\n",
              "      <td>8.6</td>\n",
              "      <td>8.7</td>\n",
              "      <td>13.4</td>\n",
              "    </tr>\n",
              "  </tbody>\n",
              "</table>\n",
              "<p>200 rows × 5 columns</p>\n",
              "</div>"
            ],
            "text/plain": [
              "     Intercept     TV  Radio  Newspaper  Sales\n",
              "0          1.0  230.1   37.8       69.2   22.1\n",
              "1          1.0   44.5   39.3       45.1   10.4\n",
              "2          1.0   17.2   45.9       69.3    9.3\n",
              "3          1.0  151.5   41.3       58.5   18.5\n",
              "4          1.0  180.8   10.8       58.4   12.9\n",
              "..         ...    ...    ...        ...    ...\n",
              "195        1.0   38.2    3.7       13.8    7.6\n",
              "196        1.0   94.2    4.9        8.1    9.7\n",
              "197        1.0  177.0    9.3        6.4   12.8\n",
              "198        1.0  283.6   42.0       66.2   25.5\n",
              "199        1.0  232.1    8.6        8.7   13.4\n",
              "\n",
              "[200 rows x 5 columns]"
            ]
          },
          "metadata": {},
          "execution_count": 6
        }
      ]
    },
    {
      "cell_type": "code",
      "metadata": {
        "colab": {
          "base_uri": "https://localhost:8080/"
        },
        "id": "eMqZSzKbBPt2",
        "outputId": "fd9bc601-f05a-4512-df6c-03b2b97fbce7"
      },
      "source": [
        "y = np.asmatrix(advertising['Sales'])[0].T\n",
        "X = np.asmatrix(advertising.iloc[:,0:4])\n",
        "N = y.shape[0] #200\n",
        "print(X[0:3])\n",
        "y.shape, X.shape"
      ],
      "execution_count": 7,
      "outputs": [
        {
          "output_type": "stream",
          "name": "stdout",
          "text": [
            "[[  1.  230.1  37.8  69.2]\n",
            " [  1.   44.5  39.3  45.1]\n",
            " [  1.   17.2  45.9  69.3]]\n"
          ]
        },
        {
          "output_type": "execute_result",
          "data": {
            "text/plain": [
              "((200, 1), (200, 4))"
            ]
          },
          "metadata": {},
          "execution_count": 7
        }
      ]
    },
    {
      "cell_type": "code",
      "metadata": {
        "colab": {
          "base_uri": "https://localhost:8080/"
        },
        "id": "ulxghkqBBPt3",
        "outputId": "7d3f78ac-ac97-4748-831c-2c2bc84367d7"
      },
      "source": [
        "w = np.ones((4)) #Setting w = 1 just for demonstration w is not trained\n",
        "d = np.matmul(X,w)\n",
        "d[:,1:10]"
      ],
      "execution_count": 8,
      "outputs": [
        {
          "output_type": "execute_result",
          "data": {
            "text/plain": [
              "matrix([[129.9, 133.4, 252.3, 251. , 133.6, 114.8, 152.4,  12.7, 224.6]])"
            ]
          },
          "metadata": {},
          "execution_count": 8
        }
      ]
    },
    {
      "cell_type": "markdown",
      "metadata": {
        "id": "5oc0OEOLBPt3"
      },
      "source": [
        "### Solving the linear regression\n",
        "\n",
        "$$\n",
        "(𝑋^𝑇 𝑋)^{(−1)} 𝑋^𝑇 𝑦\n",
        "$$\n",
        "\n",
        "####  \"By Hand\"\n",
        "\n",
        "Just for demonstration of the formula. Numerically probably not very stable."
      ]
    },
    {
      "cell_type": "code",
      "metadata": {
        "colab": {
          "base_uri": "https://localhost:8080/"
        },
        "id": "eijEui4EBPt4",
        "outputId": "eb2c28dd-705c-4650-94e9-606be0719d58"
      },
      "source": [
        "XTX = np.matmul(X.T,X)\n",
        "XTXI = np.linalg.inv(XTX)\n",
        "XTXIXT = np.matmul(XTXI, X.T)\n",
        "w = np.matmul(XTXIXT,y)\n",
        "w"
      ],
      "execution_count": 9,
      "outputs": [
        {
          "output_type": "execute_result",
          "data": {
            "text/plain": [
              "matrix([[ 2.93888937e+00],\n",
              "        [ 4.57646455e-02],\n",
              "        [ 1.88530017e-01],\n",
              "        [-1.03749304e-03]])"
            ]
          },
          "metadata": {},
          "execution_count": 9
        }
      ]
    },
    {
      "cell_type": "code",
      "metadata": {
        "colab": {
          "base_uri": "https://localhost:8080/"
        },
        "id": "WZsjUbZ0BPt5",
        "outputId": "a1e42d38-1f07-41b0-bfb8-bcd2ac92ba06"
      },
      "source": [
        "np.mean(np.square((np.matmul(X,w).flatten() - y.flatten()))) # The MSE"
      ],
      "execution_count": 10,
      "outputs": [
        {
          "output_type": "execute_result",
          "data": {
            "text/plain": [
              "2.784126314510936"
            ]
          },
          "metadata": {},
          "execution_count": 10
        }
      ]
    },
    {
      "cell_type": "markdown",
      "metadata": {
        "id": "Yt9LLaWrBPt5"
      },
      "source": [
        "#### Using sklearn"
      ]
    },
    {
      "cell_type": "code",
      "metadata": {
        "colab": {
          "base_uri": "https://localhost:8080/"
        },
        "id": "4W0kRPg-BPt6",
        "outputId": "779c4aec-01de-4410-948d-1a5cf4fd2bac"
      },
      "source": [
        "from sklearn.linear_model import LinearRegression\n",
        "model_skl = LinearRegression(fit_intercept=False) #We have an extended X\n",
        "model_skl.fit(X,y)\n",
        "model_skl.coef_"
      ],
      "execution_count": 11,
      "outputs": [
        {
          "output_type": "execute_result",
          "data": {
            "text/plain": [
              "array([[ 2.93888937e+00,  4.57646455e-02,  1.88530017e-01,\n",
              "        -1.03749304e-03]])"
            ]
          },
          "metadata": {},
          "execution_count": 11
        }
      ]
    },
    {
      "cell_type": "markdown",
      "metadata": {
        "id": "c9ThGsKyBPt6"
      },
      "source": [
        "### Looking at the solution"
      ]
    },
    {
      "cell_type": "code",
      "metadata": {
        "colab": {
          "base_uri": "https://localhost:8080/",
          "height": 466
        },
        "id": "pSDT7JGUBPt7",
        "outputId": "e00cfc7f-ec37-4611-dc91-889abe638af2"
      },
      "source": [
        "y_pred = np.matmul(X,w)\n",
        "plt.scatter([y_pred[:,0]], [y[:,0]])\n",
        "plt.xlabel('Predicted Sale')\n",
        "plt.ylabel('True Sales')\n",
        "\n",
        "np.mean(np.square((y_pred[:,0] - y[:,0]))) # The MSE"
      ],
      "execution_count": 12,
      "outputs": [
        {
          "output_type": "execute_result",
          "data": {
            "text/plain": [
              "2.784126314510936"
            ]
          },
          "metadata": {},
          "execution_count": 12
        },
        {
          "output_type": "display_data",
          "data": {
            "image/png": "[encoded data removed]",
            "text/plain": [
              "<Figure size 640x480 with 1 Axes>"
            ]
          },
          "metadata": {}
        }
      ]
    },
    {
      "cell_type": "markdown",
      "metadata": {
        "id": "PVbslQTZBPt7"
      },
      "source": [
        "### Using gradient descent [Just for reference]\n",
        "\n",
        "Note that linear regression should be solved as above. But just to show the framework"
      ]
    },
    {
      "cell_type": "code",
      "metadata": {
        "id": "uwLw409VBPt7",
        "outputId": "25d4b391-1cf6-443e-c342-b1e0ecec145d"
      },
      "source": [
        "Xs = tf.Variable(np.asmatrix(X,dtype='float32'))\n",
        "#ws = tf.Variable((1.,1.,1.,1))\n",
        "ws = tf.Variable(1.2 * np.asarray(w,dtype='float32'))\n",
        "for i in range(5000):\n",
        "    with tf.GradientTape() as tape: #Mechanism to store gradients\n",
        "        y_hat = tf.matmul(Xs,ws)\n",
        "        loss = tf.reduce_mean((y - y_hat)**2) #MSE\n",
        "        if (i % 500 == 0):\n",
        "            print(i, \"  \",ws.numpy().T,'  ',loss.numpy())\n",
        "        grads = tape.gradient(loss, ws) #gradient wrt w\n",
        "        ws = tf.Variable(ws - 0.00001 * grads)"
      ],
      "execution_count": null,
      "outputs": [
        {
          "name": "stdout",
          "output_type": "stream",
          "text": [
            "0    [[ 3.5266674e+00  5.4917574e-02  2.2623603e-01 -1.2449917e-03]]    11.621412\n",
            "500    [[ 3.5252914   0.04400306  0.18665785 -0.00728248]]    2.840152\n",
            "1000    [[ 3.5244162   0.04414177  0.18254238 -0.00499822]]    2.8343148\n",
            "1500    [[ 3.5235817   0.04416433  0.18193235 -0.0046497 ]]    2.8340447\n",
            "2000    [[ 3.5227473   0.04416964  0.18184891 -0.00459304]]    2.8338995\n",
            "2500    [[ 3.5219128   0.04417236  0.1818447  -0.00458024]]    2.8337567\n",
            "3000    [[ 3.5210783   0.04417473  0.18185215 -0.00457413]]    2.833615\n",
            "3500    [[ 3.520244    0.04417707  0.18186036 -0.00456842]]    2.8334734\n",
            "4000    [[ 3.5194094   0.04417935  0.18186991 -0.00456333]]    2.8333323\n",
            "4500    [[ 3.518575    0.04418162  0.18187948 -0.00455826]]    2.8331902\n"
          ]
        }
      ]
    },
    {
      "cell_type": "markdown",
      "metadata": {
        "id": "FJife6FWBPt8"
      },
      "source": [
        "Comparison, longer traning would yield better results. "
      ]
    },
    {
      "cell_type": "code",
      "metadata": {
        "id": "MX3k7shLBPt8",
        "outputId": "5350bf3c-d1e2-41b1-9c0a-2bb272ce8527"
      },
      "source": [
        "np.mean(np.square((y_hat.numpy().flatten() - y.flatten()))) # The MSE, a bit higher then analytical solution"
      ],
      "execution_count": null,
      "outputs": [
        {
          "data": {
            "text/plain": [
              "2.833049790521394"
            ]
          },
          "execution_count": 11,
          "metadata": {},
          "output_type": "execute_result"
        }
      ]
    },
    {
      "cell_type": "code",
      "metadata": {
        "id": "qn4huXUZBPt8",
        "outputId": "1f12b551-f3fa-4cc3-9c48-24047d217502"
      },
      "source": [
        "plt.plot(y_pred,y_hat)\n",
        "plt.title('Comparing gradient descent against analytical soluton')\n",
        "plt.xlabel('Scikit Learn')\n",
        "plt.ylabel('Gradient Descent')"
      ],
      "execution_count": null,
      "outputs": [
        {
          "data": {
            "text/plain": [
              "Text(0, 0.5, 'Gradient Descent')"
            ]
          },
          "execution_count": 12,
          "metadata": {},
          "output_type": "execute_result"
        },
        {
          "data": {
            "image/png": "[encoded data removed]",
            "text/plain": [
              "<Figure size 432x288 with 1 Axes>"
            ]
          },
          "metadata": {
            "needs_background": "light"
          },
          "output_type": "display_data"
        }
      ]
    }
  ]
}